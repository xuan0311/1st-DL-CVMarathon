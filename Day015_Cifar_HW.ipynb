{
 "cells": [
  {
   "cell_type": "markdown",
   "metadata": {},
   "source": [
    "## 『本次練習內容』\n",
    "#### 運用這幾天所學觀念搭建一個CNN分類器"
   ]
  },
  {
   "cell_type": "markdown",
   "metadata": {},
   "source": [
    "## 『本次練習目的』\n",
    "  #### 熟悉CNN分類器搭建步驟與原理\n",
    "  #### 學員們可以嘗試不同搭法，如使用不同的Maxpooling層，用GlobalAveragePooling取代Flatten等等"
   ]
  },
  {
   "cell_type": "code",
   "execution_count": 1,
   "metadata": {},
   "outputs": [
    {
     "name": "stderr",
     "output_type": "stream",
     "text": [
      "Using TensorFlow backend.\n"
     ]
    }
   ],
   "source": [
    "#載入套件\n",
    "from keras.models import Sequential  #用來啟動 NN\n",
    "from keras.layers import Convolution2D # Convolution Operation\n",
    "from keras.layers import MaxPooling2D # Pooling\n",
    "from keras.layers import Flatten\n",
    "from keras.layers import Dense # Fully Connected Networks\n",
    "from keras.layers import Dropout \n",
    "from keras.layers import BatchNormalization\n",
    "from keras.datasets import cifar10\n",
    "import numpy as np\n",
    "import tensorflow as tf\n",
    "from sklearn.preprocessing import OneHotEncoder\n"
   ]
  },
  {
   "cell_type": "code",
   "execution_count": 2,
   "metadata": {},
   "outputs": [],
   "source": [
    "# CUDNN_STATUS_INTERNAL_ERROR 於運行時出現, 重裝 cudnn 之後無效, suspect gpu ram issue\n",
    "# 利用動態分配GPU內存 problem solved.\n",
    "# ref: https://github.com/keras-team/keras/issues/4161\n",
    "def dynam_GPU_ram():\n",
    "    config = tf.compat.v1.ConfigProto()\n",
    "    config.gpu_options.allow_growth = True  # dynamically grow the memory used on the GPU\n",
    "    config.log_device_placement = True  # to log device placement (on which device the operation ran)\n",
    "    sess = tf.compat.v1.Session(config=config)\n",
    "    tf.compat.v1.keras.backend.set_session(tf.compat.v1.Session(config=config))\n",
    "\n",
    "    \n",
    "    \n",
    "dynam_GPU_ram()\n",
    "\n",
    "config = tf.ConfigProto(allow_soft_placement=True) \n",
    "config.gpu_options.allow_growth = True\n",
    "sess = tf.Session(config=config)\n",
    "sess = tf.Session(config=tf.ConfigProto(log_device_placement=True))"
   ]
  },
  {
   "cell_type": "code",
   "execution_count": 3,
   "metadata": {},
   "outputs": [
    {
     "name": "stdout",
     "output_type": "stream",
     "text": [
      "(50000, 32, 32, 3)\n"
     ]
    }
   ],
   "source": [
    "(x_train, y_train), (x_test, y_test) = cifar10.load_data()\n",
    "\n",
    "print(x_train.shape) #(50000, 32, 32, 3)\n",
    "\n",
    "## Normalize Data\n",
    "'''\n",
    "您好，我們常見的前處理包含Normalization 和 Standardization，\n",
    "狹義的Normalization 指的是將所有資料rescale到0-1之間，\n",
    "在影像中/255就是其中一種，上方程式部分比較正確的名稱是Standardization，\n",
    "也就是將所有的資料-平均值/STD，之所以會加上一個很小的值是為了避免分母為0，\n",
    "算是廣義的Normalization ，這種方式結果有正有負。\n",
    "'''\n",
    "def normalize(X_train,X_test):\n",
    "        #計算平均值\n",
    "        mean = np.mean(X_train,axis=(0,1,2,3)) #np.mean(axis=(0,1,2,3))輸出的矩陣維度為4維。\n",
    "        #計算標準差\n",
    "        std = np.std(X_train, axis=(0, 1, 2, 3)) #np.std(axis=(0,1,2,3))輸出的矩陣維度為4維。\n",
    "        #透過平均值與標準差將X_train的資料歸一化\n",
    "        X_train = (X_train-mean)/(std+1e-7)  #加上一個很小的值(1e-7)，為了避免分母為0。\n",
    "        #透過平均值與標準差將X_test的資料歸一化\n",
    "        X_test = (X_test-mean)/(std+1e-7)  #加上一個很小的值(1e-7)，為了避免分母為0。\n",
    "        return X_train, X_test,mean,std\n",
    "    \n",
    "    \n",
    "## Normalize Training and Testset    \n",
    "x_train, x_test,mean_train,std_train = normalize(x_train, x_test) "
   ]
  },
  {
   "cell_type": "code",
   "execution_count": 4,
   "metadata": {},
   "outputs": [
    {
     "name": "stderr",
     "output_type": "stream",
     "text": [
      "C:\\ProgramData\\Anaconda3\\lib\\site-packages\\sklearn\\preprocessing\\_encoders.py:415: FutureWarning: The handling of integer data will change in version 0.22. Currently, the categories are determined based on the range [0, max(values)], while in the future they will be determined based on the unique values.\n",
      "If you want the future behaviour and silence this warning, you can specify \"categories='auto'\".\n",
      "In case you used a LabelEncoder before this OneHotEncoder to convert the categories to integers, then you can now use the OneHotEncoder directly.\n",
      "  warnings.warn(msg, FutureWarning)\n"
     ]
    }
   ],
   "source": [
    "## OneHot Label 由(None, 1)-(None, 10)\n",
    "## ex. label=2,變成[0,0,1,0,0,0,0,0,0,0]\n",
    "# 對 label 進行 one-hot encoding \n",
    "one_hot=OneHotEncoder()\n",
    "y_train=one_hot.fit_transform(y_train).toarray()\n",
    "y_test=one_hot.transform(y_test).toarray()"
   ]
  },
  {
   "cell_type": "code",
   "execution_count": 5,
   "metadata": {
    "scrolled": false
   },
   "outputs": [
    {
     "name": "stdout",
     "output_type": "stream",
     "text": [
      "WARNING:tensorflow:From C:\\ProgramData\\Anaconda3\\lib\\site-packages\\tensorflow\\python\\ops\\resource_variable_ops.py:435: colocate_with (from tensorflow.python.framework.ops) is deprecated and will be removed in a future version.\n",
      "Instructions for updating:\n",
      "Colocations handled automatically by placer.\n",
      "WARNING:tensorflow:From C:\\ProgramData\\Anaconda3\\lib\\site-packages\\tensorflow\\python\\ops\\math_ops.py:3066: to_int32 (from tensorflow.python.ops.math_ops) is deprecated and will be removed in a future version.\n",
      "Instructions for updating:\n",
      "Use tf.cast instead.\n"
     ]
    },
    {
     "name": "stderr",
     "output_type": "stream",
     "text": [
      "C:\\ProgramData\\Anaconda3\\lib\\site-packages\\ipykernel_launcher.py:19: UserWarning: Update your `Dense` call to the Keras 2 API: `Dense(activation=\"relu\", units=100)`\n",
      "C:\\ProgramData\\Anaconda3\\lib\\site-packages\\ipykernel_launcher.py:22: UserWarning: Update your `Dense` call to the Keras 2 API: `Dense(activation=\"softmax\", units=10)`\n"
     ]
    },
    {
     "name": "stdout",
     "output_type": "stream",
     "text": [
      "Epoch 1/100\n",
      "50000/50000 [==============================] - 8s 162us/step - loss: 1.3466 - accuracy: 0.5470\n",
      "Epoch 2/100\n",
      "50000/50000 [==============================] - 6s 127us/step - loss: 0.8164 - accuracy: 0.7144\n",
      "Epoch 3/100\n",
      "50000/50000 [==============================] - 6s 128us/step - loss: 0.5941 - accuracy: 0.7921\n",
      "Epoch 4/100\n",
      "50000/50000 [==============================] - 6s 126us/step - loss: 0.4198 - accuracy: 0.8546\n",
      "Epoch 5/100\n",
      "50000/50000 [==============================] - 6s 124us/step - loss: 0.2765 - accuracy: 0.9065\n",
      "Epoch 6/100\n",
      "50000/50000 [==============================] - 6s 124us/step - loss: 0.1944 - accuracy: 0.9343\n",
      "Epoch 7/100\n",
      "50000/50000 [==============================] - 6s 127us/step - loss: 0.1511 - accuracy: 0.9480\n",
      "Epoch 8/100\n",
      "50000/50000 [==============================] - 6s 126us/step - loss: 0.1343 - accuracy: 0.9514\n",
      "Epoch 9/100\n",
      "50000/50000 [==============================] - 6s 128us/step - loss: 0.1065 - accuracy: 0.9633\n",
      "Epoch 10/100\n",
      "50000/50000 [==============================] - 6s 126us/step - loss: 0.1024 - accuracy: 0.9654\n",
      "Epoch 11/100\n",
      "50000/50000 [==============================] - 6s 127us/step - loss: 0.0854 - accuracy: 0.9706\n",
      "Epoch 12/100\n",
      "50000/50000 [==============================] - 6s 127us/step - loss: 0.0699 - accuracy: 0.9756\n",
      "Epoch 13/100\n",
      "50000/50000 [==============================] - 6s 125us/step - loss: 0.0778 - accuracy: 0.9727\n",
      "Epoch 14/100\n",
      "50000/50000 [==============================] - 6s 125us/step - loss: 0.0756 - accuracy: 0.9740\n",
      "Epoch 15/100\n",
      "50000/50000 [==============================] - 6s 124us/step - loss: 0.0660 - accuracy: 0.9781\n",
      "Epoch 16/100\n",
      "50000/50000 [==============================] - 6s 124us/step - loss: 0.0607 - accuracy: 0.9788\n",
      "Epoch 17/100\n",
      "50000/50000 [==============================] - 6s 125us/step - loss: 0.0612 - accuracy: 0.9787\n",
      "Epoch 18/100\n",
      "50000/50000 [==============================] - 7s 131us/step - loss: 0.0606 - accuracy: 0.9795\n",
      "Epoch 19/100\n",
      "50000/50000 [==============================] - 6s 127us/step - loss: 0.0528 - accuracy: 0.9819\n",
      "Epoch 20/100\n",
      "50000/50000 [==============================] - 6s 127us/step - loss: 0.0428 - accuracy: 0.9858\n",
      "Epoch 21/100\n",
      "50000/50000 [==============================] - 6s 127us/step - loss: 0.0568 - accuracy: 0.9806\n",
      "Epoch 22/100\n",
      "50000/50000 [==============================] - 7s 132us/step - loss: 0.0467 - accuracy: 0.9835\n",
      "Epoch 23/100\n",
      "50000/50000 [==============================] - 7s 133us/step - loss: 0.0434 - accuracy: 0.9859\n",
      "Epoch 24/100\n",
      "50000/50000 [==============================] - 7s 134us/step - loss: 0.0376 - accuracy: 0.9875\n",
      "Epoch 25/100\n",
      "50000/50000 [==============================] - 6s 124us/step - loss: 0.0465 - accuracy: 0.9850\n",
      "Epoch 26/100\n",
      "50000/50000 [==============================] - 6s 121us/step - loss: 0.0442 - accuracy: 0.9854\n",
      "Epoch 27/100\n",
      "50000/50000 [==============================] - 6s 121us/step - loss: 0.0393 - accuracy: 0.9875\n",
      "Epoch 28/100\n",
      "50000/50000 [==============================] - 6s 122us/step - loss: 0.0441 - accuracy: 0.9858\n",
      "Epoch 29/100\n",
      "50000/50000 [==============================] - 6s 121us/step - loss: 0.0478 - accuracy: 0.9842\n",
      "Epoch 30/100\n",
      "50000/50000 [==============================] - 6s 121us/step - loss: 0.0289 - accuracy: 0.9902\n",
      "Epoch 31/100\n",
      "50000/50000 [==============================] - 6s 122us/step - loss: 0.0295 - accuracy: 0.9903\n",
      "Epoch 32/100\n",
      "50000/50000 [==============================] - 6s 122us/step - loss: 0.0388 - accuracy: 0.9873\n",
      "Epoch 33/100\n",
      "50000/50000 [==============================] - 6s 121us/step - loss: 0.0294 - accuracy: 0.9903\n",
      "Epoch 34/100\n",
      "50000/50000 [==============================] - 6s 121us/step - loss: 0.0319 - accuracy: 0.9887\n",
      "Epoch 35/100\n",
      "50000/50000 [==============================] - 6s 122us/step - loss: 0.0331 - accuracy: 0.9891\n",
      "Epoch 36/100\n",
      "50000/50000 [==============================] - 6s 122us/step - loss: 0.0340 - accuracy: 0.9893\n",
      "Epoch 37/100\n",
      "50000/50000 [==============================] - 6s 121us/step - loss: 0.0342 - accuracy: 0.9888\n",
      "Epoch 38/100\n",
      "50000/50000 [==============================] - 6s 130us/step - loss: 0.0307 - accuracy: 0.9899\n",
      "Epoch 39/100\n",
      "50000/50000 [==============================] - 6s 128us/step - loss: 0.0263 - accuracy: 0.9917\n",
      "Epoch 40/100\n",
      "50000/50000 [==============================] - 6s 128us/step - loss: 0.0345 - accuracy: 0.9886\n",
      "Epoch 41/100\n",
      "50000/50000 [==============================] - 6s 127us/step - loss: 0.0249 - accuracy: 0.9921\n",
      "Epoch 42/100\n",
      "50000/50000 [==============================] - 6s 127us/step - loss: 0.0212 - accuracy: 0.9932\n",
      "Epoch 43/100\n",
      "50000/50000 [==============================] - 6s 129us/step - loss: 0.0302 - accuracy: 0.9901\n",
      "Epoch 44/100\n",
      "50000/50000 [==============================] - 6s 129us/step - loss: 0.0269 - accuracy: 0.9916\n",
      "Epoch 45/100\n",
      "50000/50000 [==============================] - 7s 139us/step - loss: 0.0253 - accuracy: 0.9920\n",
      "Epoch 46/100\n",
      "50000/50000 [==============================] - 7s 146us/step - loss: 0.0254 - accuracy: 0.9921\n",
      "Epoch 47/100\n",
      "50000/50000 [==============================] - 7s 136us/step - loss: 0.0224 - accuracy: 0.9929\n",
      "Epoch 48/100\n",
      "50000/50000 [==============================] - 7s 133us/step - loss: 0.0237 - accuracy: 0.9924\n",
      "Epoch 49/100\n",
      "50000/50000 [==============================] - 7s 139us/step - loss: 0.0222 - accuracy: 0.9927\n",
      "Epoch 50/100\n",
      "50000/50000 [==============================] - 7s 132us/step - loss: 0.0303 - accuracy: 0.9903\n",
      "Epoch 51/100\n",
      "50000/50000 [==============================] - 6s 128us/step - loss: 0.0251 - accuracy: 0.9922\n",
      "Epoch 52/100\n",
      "50000/50000 [==============================] - 7s 131us/step - loss: 0.0236 - accuracy: 0.9929\n",
      "Epoch 53/100\n",
      "50000/50000 [==============================] - 6s 128us/step - loss: 0.0182 - accuracy: 0.9940\n",
      "Epoch 54/100\n",
      "50000/50000 [==============================] - 6s 129us/step - loss: 0.0227 - accuracy: 0.9926\n",
      "Epoch 55/100\n",
      "50000/50000 [==============================] - 6s 127us/step - loss: 0.0216 - accuracy: 0.9931\n",
      "Epoch 56/100\n",
      "50000/50000 [==============================] - 7s 137us/step - loss: 0.0221 - accuracy: 0.9929\n",
      "Epoch 57/100\n",
      "50000/50000 [==============================] - 7s 133us/step - loss: 0.0189 - accuracy: 0.9939\n",
      "Epoch 58/100\n",
      "50000/50000 [==============================] - 6s 129us/step - loss: 0.0157 - accuracy: 0.9949\n",
      "Epoch 59/100\n",
      "50000/50000 [==============================] - 6s 124us/step - loss: 0.0245 - accuracy: 0.9925\n",
      "Epoch 60/100\n",
      "50000/50000 [==============================] - 6s 126us/step - loss: 0.0219 - accuracy: 0.9929\n",
      "Epoch 61/100\n",
      "50000/50000 [==============================] - 7s 137us/step - loss: 0.0235 - accuracy: 0.9925\n",
      "Epoch 62/100\n",
      "50000/50000 [==============================] - 6s 129us/step - loss: 0.0251 - accuracy: 0.9920\n",
      "Epoch 63/100\n",
      "50000/50000 [==============================] - 6s 127us/step - loss: 0.0159 - accuracy: 0.9950\n",
      "Epoch 64/100\n",
      "50000/50000 [==============================] - 7s 133us/step - loss: 0.0201 - accuracy: 0.9935\n",
      "Epoch 65/100\n",
      "50000/50000 [==============================] - 7s 133us/step - loss: 0.0164 - accuracy: 0.9949\n",
      "Epoch 66/100\n",
      "50000/50000 [==============================] - 7s 133us/step - loss: 0.0121 - accuracy: 0.9963\n",
      "Epoch 67/100\n",
      "50000/50000 [==============================] - 7s 132us/step - loss: 0.0210 - accuracy: 0.9934\n",
      "Epoch 68/100\n",
      "50000/50000 [==============================] - 7s 137us/step - loss: 0.0193 - accuracy: 0.9939\n",
      "Epoch 69/100\n",
      "50000/50000 [==============================] - 7s 141us/step - loss: 0.0147 - accuracy: 0.9952\n",
      "Epoch 70/100\n",
      "50000/50000 [==============================] - 7s 138us/step - loss: 0.0219 - accuracy: 0.9931\n",
      "Epoch 71/100\n",
      "50000/50000 [==============================] - 6s 127us/step - loss: 0.0189 - accuracy: 0.9940\n",
      "Epoch 72/100\n",
      "50000/50000 [==============================] - 6s 130us/step - loss: 0.0132 - accuracy: 0.9954\n",
      "Epoch 73/100\n",
      "50000/50000 [==============================] - 6s 128us/step - loss: 0.0176 - accuracy: 0.9947\n",
      "Epoch 74/100\n",
      "50000/50000 [==============================] - 6s 128us/step - loss: 0.0162 - accuracy: 0.9946\n",
      "Epoch 75/100\n",
      "50000/50000 [==============================] - 7s 133us/step - loss: 0.0211 - accuracy: 0.9937\n",
      "Epoch 76/100\n",
      "50000/50000 [==============================] - 7s 140us/step - loss: 0.0176 - accuracy: 0.9942\n"
     ]
    },
    {
     "name": "stdout",
     "output_type": "stream",
     "text": [
      "Epoch 77/100\n",
      "50000/50000 [==============================] - 7s 136us/step - loss: 0.0143 - accuracy: 0.9958\n",
      "Epoch 78/100\n",
      "50000/50000 [==============================] - 7s 133us/step - loss: 0.0145 - accuracy: 0.9953\n",
      "Epoch 79/100\n",
      "50000/50000 [==============================] - 7s 134us/step - loss: 0.0132 - accuracy: 0.9955\n",
      "Epoch 80/100\n",
      "50000/50000 [==============================] - 7s 130us/step - loss: 0.0120 - accuracy: 0.9963\n",
      "Epoch 81/100\n",
      "50000/50000 [==============================] - 6s 128us/step - loss: 0.0197 - accuracy: 0.9942\n",
      "Epoch 82/100\n",
      "50000/50000 [==============================] - 6s 128us/step - loss: 0.0174 - accuracy: 0.9948\n",
      "Epoch 83/100\n",
      "50000/50000 [==============================] - 6s 128us/step - loss: 0.0101 - accuracy: 0.9967\n",
      "Epoch 84/100\n",
      "50000/50000 [==============================] - 6s 129us/step - loss: 0.0153 - accuracy: 0.9950\n",
      "Epoch 85/100\n",
      "50000/50000 [==============================] - 6s 127us/step - loss: 0.0147 - accuracy: 0.9952\n",
      "Epoch 86/100\n",
      "50000/50000 [==============================] - 6s 127us/step - loss: 0.0139 - accuracy: 0.9953\n",
      "Epoch 87/100\n",
      "50000/50000 [==============================] - 7s 131us/step - loss: 0.0166 - accuracy: 0.9949\n",
      "Epoch 88/100\n",
      "50000/50000 [==============================] - 7s 131us/step - loss: 0.0109 - accuracy: 0.9966\n",
      "Epoch 89/100\n",
      "50000/50000 [==============================] - 6s 125us/step - loss: 0.0116 - accuracy: 0.9962\n",
      "Epoch 90/100\n",
      "50000/50000 [==============================] - 7s 131us/step - loss: 0.0175 - accuracy: 0.9946\n",
      "Epoch 91/100\n",
      "50000/50000 [==============================] - 6s 129us/step - loss: 0.0146 - accuracy: 0.9955\n",
      "Epoch 92/100\n",
      "50000/50000 [==============================] - 6s 128us/step - loss: 0.0145 - accuracy: 0.9956\n",
      "Epoch 93/100\n",
      "50000/50000 [==============================] - 6s 129us/step - loss: 0.0109 - accuracy: 0.9967\n",
      "Epoch 94/100\n",
      "50000/50000 [==============================] - 7s 130us/step - loss: 0.0120 - accuracy: 0.9963\n",
      "Epoch 95/100\n",
      "50000/50000 [==============================] - 6s 128us/step - loss: 0.0180 - accuracy: 0.9945\n",
      "Epoch 96/100\n",
      "50000/50000 [==============================] - 6s 130us/step - loss: 0.0145 - accuracy: 0.9955\n",
      "Epoch 97/100\n",
      "50000/50000 [==============================] - 7s 131us/step - loss: 0.0133 - accuracy: 0.9957\n",
      "Epoch 98/100\n",
      "50000/50000 [==============================] - 6s 128us/step - loss: 0.0105 - accuracy: 0.9966\n",
      "Epoch 99/100\n",
      "50000/50000 [==============================] - 6s 127us/step - loss: 0.0110 - accuracy: 0.9967\n",
      "Epoch 100/100\n",
      "50000/50000 [==============================] - 6s 127us/step - loss: 0.0195 - accuracy: 0.9947\n"
     ]
    },
    {
     "data": {
      "text/plain": [
       "<keras.callbacks.callbacks.History at 0x17718dbc388>"
      ]
     },
     "execution_count": 5,
     "metadata": {},
     "output_type": "execute_result"
    }
   ],
   "source": [
    "# 建立簡單的線性執行的模型\n",
    "classifier=Sequential()\n",
    "\n",
    "#卷積組合\n",
    "classifier.add(Convolution2D(filters= 32,kernel_size=(3,3),input_shape=(32,32,3),activation='relu'))#32,3,3,input_shape=(32,32,3),activation='relu''\n",
    "classifier.add(BatchNormalization())\n",
    "\n",
    "'''自己決定MaxPooling2D放在哪裡'''\n",
    "classifier.add(MaxPooling2D(pool_size=(2,2))) # 建立池化層，池化大小=2x2，取最大值\n",
    "\n",
    "#卷積組合\n",
    "classifier.add(Convolution2D(filters= 32,kernel_size=(3,3),activation='relu'))\n",
    "classifier.add(BatchNormalization())\n",
    "\n",
    "#flatten\n",
    "classifier.add(Flatten())\n",
    "\n",
    "#FC\n",
    "classifier.add(Dense(output_dim=100, activation='relu')) #output_dim=100,activation=relu\n",
    "\n",
    "#輸出\n",
    "classifier.add(Dense(output_dim=10,activation='softmax')) # 使用 softmax activation function，並將結果分類\n",
    "\n",
    "#超過兩個就要選categorical_crossentrophy\n",
    "# 編譯: 選擇損失函數、優化方法及成效衡量方式\n",
    "# 確立目標及求解方法：以compile函數定義損失函數(loss)、優化函數(optimizer)及成效衡量指標(mertrics)。\n",
    "classifier.compile(optimizer = 'adam', loss = 'categorical_crossentropy', metrics = ['accuracy'])\n",
    "classifier.fit(x_train,y_train,batch_size=100,epochs=100)"
   ]
  },
  {
   "cell_type": "markdown",
   "metadata": {},
   "source": [
    "## 預測新圖片，輸入影像前處理要與訓練時相同\n",
    "#### ((X-mean)/(std+1e-7) ):這裡的mean跟std是訓練集的\n",
    "## 維度如下方示範"
   ]
  },
  {
   "cell_type": "code",
   "execution_count": 6,
   "metadata": {},
   "outputs": [
    {
     "data": {
      "text/plain": [
       "array([[1.0075809e-16, 7.4300616e-24, 8.5674579e-09, 9.9999976e-01,\n",
       "        2.8860200e-07, 3.2877883e-24, 1.2188357e-20, 8.5895301e-28,\n",
       "        4.6444429e-14, 9.5636281e-33]], dtype=float32)"
      ]
     },
     "execution_count": 6,
     "metadata": {},
     "output_type": "execute_result"
    }
   ],
   "source": [
    "input_example=(np.zeros(shape=(1,32,32,3))-mean_train)/(std_train+1e-7)  #np.zeros 可以用來建立以 0 為元素的矩陣\n",
    "classifier.predict(input_example)"
   ]
  },
  {
   "cell_type": "code",
   "execution_count": null,
   "metadata": {},
   "outputs": [],
   "source": []
  }
 ],
 "metadata": {
  "kernelspec": {
   "display_name": "Python 3",
   "language": "python",
   "name": "python3"
  },
  "language_info": {
   "codemirror_mode": {
    "name": "ipython",
    "version": 3
   },
   "file_extension": ".py",
   "mimetype": "text/x-python",
   "name": "python",
   "nbconvert_exporter": "python",
   "pygments_lexer": "ipython3",
   "version": "3.7.4"
  }
 },
 "nbformat": 4,
 "nbformat_minor": 2
}
